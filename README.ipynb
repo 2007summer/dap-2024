{
 "cells": [
  {
   "cell_type": "markdown",
   "metadata": {},
   "source": [
    "# Анализ данных на python"
   ]
  },
  {
   "cell_type": "markdown",
   "metadata": {},
   "source": [
    "## Занятия\n",
    "\n",
    "1. [Введение в анализ данных. Инструменты для анализа данных.](./les01/README.md)\n",
    "2. Программирование на языке Python.\n",
    "3. Источники данных. Экстракция и очистка.\n",
    "4. Обработка данных. Pandas.\n",
    "5. Представление и визуализация данных.\n",
    "6. Исследование взаимосвязей между переменными.\n",
    "7. Линейная регрессия.Логистическая регрессия.\n",
    "8. Факторный анализ. Кластерный анализ"
   ]
  },
  {
   "cell_type": "markdown",
   "metadata": {},
   "source": [
    "\n",
    "## Литература\n",
    "\n",
    "1. [Плас, Д.В. Python  для  сложных  задач:  наука  о  данных.  2-е  междунар.  изд./Джейк Вандер Плас. — Астана: «Спринт Бук», 2024. — 592 с.: ил.](https://www.piter.com/collection/bestsellery-oreilly/product/python-dlya-slozhnyh-zadach-nauka-o-dannyh-2-e-mezhd-izd)\n",
    "2. [Гарафутдинов, Р.В. Python для анализа данных: учебное пособие / Р. В. Гарафутдинов; Пермский государственный национальный  исследовательский  университет. – Электронные  данные. – Пермь,  2024. - 9,19 Мб ; 276 с.](http://www.psu.ru/nauka/elektronnye-publikatsii/uchebnye-posobiya-i-metodicheskie-materialy/r-v-garafutdinov-python-dlya-analiza-dannykh)\n",
    "3. [Хейдт М.  Изучаем Pandas / Хейдт М. А.В. Груздев - М: ДМК Пресс, 2019. - 682с.ил.](https://dmkpress.com/catalog/computer/programming/python/978-5-97060-670-4/)"
   ]
  }
 ],
 "metadata": {
  "language_info": {
   "name": "python"
  }
 },
 "nbformat": 4,
 "nbformat_minor": 2
}
