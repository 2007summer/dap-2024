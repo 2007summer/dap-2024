{
 "cells": [
  {
   "cell_type": "markdown",
   "metadata": {},
   "source": [
    "# Лабораторная работа №1. Подготовка среды для анализа данных"
   ]
  },
  {
   "cell_type": "markdown",
   "metadata": {},
   "source": [
    "##  Учетная запись в GitHub\n",
    "1. Создайте учетную запись в сервисе GitHub\n",
    "2. Выполните форк репозитория https://github.com/chebotarevsa/cad-2024"
   ]
  },
  {
   "cell_type": "markdown",
   "metadata": {},
   "source": [
    "## Учетная запись в Codelab\n",
    "1. Создайте учетную запись в [Goole Colab](https://colab.research.google.com)"
   ]
  },
  {
   "cell_type": "markdown",
   "metadata": {},
   "source": [
    "## Интеграция Codelab и GitHub"
   ]
  },
  {
   "cell_type": "markdown",
   "metadata": {},
   "source": [
    "## Подготовка отчета о выполенной работе"
   ]
  },
  {
   "cell_type": "code",
   "execution_count": null,
   "metadata": {
    "vscode": {
     "languageId": "plaintext"
    }
   },
   "outputs": [],
   "source": [
    "## Создание pull request\n",
    "https://github.com/chebotarevsa/cad-2024"
   ]
  },
  {
   "cell_type": "markdown",
   "metadata": {},
   "source": [
    "## Вопросы"
   ]
  },
  {
   "cell_type": "markdown",
   "metadata": {},
   "source": [
    "\n",
    "1. Типы ячеек в Jupyter Notebook\n",
    "2. Как с помощью Markdown сфорировать иерархический списк\n",
    "3. Как с помощью Markdown оформить цитату\n",
    "4. Как в тектовую ячейку вставить отформатированный блок кода\n",
    "5. Сколько уровней заголовка существует в  Markdown\n",
    "6. Шаги процесса анализа данных, рассказать подробно про один из шагов\n",
    "7. Типы данных, рассказать подробно про один из типов данных\n",
    "8. Что такое Jupyter Notebook, для чего используется?\n",
    "9. Почему python популярен для анализа данных?\n",
    "10. Обязательно ли использовать Jupyter Notebook для анализа данных"
   ]
  }
 ],
 "metadata": {
  "language_info": {
   "name": "python"
  }
 },
 "nbformat": 4,
 "nbformat_minor": 2
}
