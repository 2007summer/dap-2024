{
 "cells": [
  {
   "cell_type": "markdown",
   "metadata": {},
   "source": [
    "# Pandas\n",
    "\n",
    "Программная библиотека на языке Python для обработки и анализа данных. Работа pandas с данными строится поверх библиотеки NumPy, являющейся инструментом более низкого уровня. Предоставляет специальные структуры данных и операции для манипулирования числовыми таблицами и временны́ми рядами. Название библиотеки происходит от эконометрического термина «панельные данные»*, используемого для описания многомерных структурированных наборов информации. pandas распространяется под новой лицензией BSD. \n",
    "\n",
    "* Сайт - https://pandas.pydata.org/\n",
    "* PyPI - https://pypi.org/project/pandas/\n"
   ]
  },
  {
   "cell_type": "markdown",
   "metadata": {},
   "source": [
    "*Панельные данные - данные получаемые серией измерений или наблюдений за несколько периодов времени для одних и тех же компаний или людей. \n",
    "Например данные за месяц о количестве шагов проденных студентами группы"
   ]
  },
  {
   "cell_type": "markdown",
   "metadata": {},
   "source": [
    "## Подключение библиотеки к проекту\n"
   ]
  },
  {
   "cell_type": "markdown",
   "metadata": {},
   "source": [
    "Для использованиея библиотеки в проекте ее необходимо установить и импортировать:\n",
    "\n",
    "Установка выполняется коммандой bash\n",
    "```bash \n",
    "pip install pandas \n",
    "```\n",
    "\n",
    "\n",
    "Импорт\n",
    "```python \n",
    "import numpy as np\n",
    "```\n",
    "\n",
    "Доступна функция настройки представления объектов pandas в Jupiter Notebook - set_option"
   ]
  },
  {
   "cell_type": "code",
   "execution_count": null,
   "metadata": {},
   "outputs": [],
   "source": [
    "# Подключение библиотеки к проекту\n",
    "\n",
    "import sys\n",
    "import numpy as np\n",
    "import pandas as pd\n",
    "print(f\"Python version: {sys.version}\")\n",
    "print(f\"Numpy version: {np.version.version}\")\n",
    "print(f\"Pandas version: {pd.__version__}\")\n",
    "pd.set_option('display.max_row',10)\n",
    "pd.set_option('display.max_column',8)"
   ]
  },
  {
   "cell_type": "markdown",
   "metadata": {},
   "source": [
    "## Series (Серия)\n",
    "\n",
    "**Series** - это базовая структура данных в библиотеке pandas. Серия похожа на массив NumPy, но отличается от него тем, что имеет индекс, который позволяет осуществлять гораздо более гибкий поиск элементов, а не только по индексу массива, в котором отчет начинается с нуля. \n",
    "Такая особенность делает похожим Series на ассоциативный массив или словарь в Python.\n",
    "\n",
    "В строковом представлении объекта Series, индекс находится слева, а сам элемент справа. Если индекс явно не задан, то pandas автоматически создаёт RangeIndex от 0 до N-1, где N общее количество элементов."
   ]
  },
  {
   "cell_type": "markdown",
   "metadata": {},
   "source": [
    "### Создание серий"
   ]
  },
  {
   "cell_type": "markdown",
   "metadata": {},
   "source": [
    "Из скалярныйх значений"
   ]
  },
  {
   "cell_type": "code",
   "execution_count": null,
   "metadata": {},
   "outputs": [],
   "source": [
    "s_scal_1 = pd.Series(1)\n",
    "s_scal_1"
   ]
  },
  {
   "cell_type": "markdown",
   "metadata": {},
   "source": [
    "Создание на основе списков"
   ]
  },
  {
   "cell_type": "code",
   "execution_count": null,
   "metadata": {},
   "outputs": [],
   "source": [
    "s_list_1 = pd.Series([1,2,3,4])\n",
    "s_list_2 = pd.Series('hello')\n",
    "s_list_3 = pd.Series(range(1,10,2))\n",
    "s_list_4 = pd.Series([3]*10)"
   ]
  },
  {
   "cell_type": "markdown",
   "metadata": {},
   "source": [
    "Создание на основе словарей"
   ]
  },
  {
   "cell_type": "code",
   "execution_count": null,
   "metadata": {},
   "outputs": [],
   "source": [
    "s_dic_1 = pd.Series({'a':1, 'b':2, 'c': 3})\n",
    "s_dic_1"
   ]
  },
  {
   "cell_type": "markdown",
   "metadata": {},
   "source": [
    "Из объектов NumPy"
   ]
  },
  {
   "cell_type": "code",
   "execution_count": null,
   "metadata": {},
   "outputs": [],
   "source": [
    "s_nm_1 = pd.Series(np.arange(1,10))\n",
    "s_nm_2 = pd.Series(np.random.normal(size=10))\n",
    "s_nm_2"
   ]
  },
  {
   "cell_type": "markdown",
   "metadata": {},
   "source": [
    "### Значения"
   ]
  },
  {
   "cell_type": "markdown",
   "metadata": {},
   "source": [
    "Получение заначений из серии.  Значения получем в виде массива NumPy"
   ]
  },
  {
   "cell_type": "code",
   "execution_count": null,
   "metadata": {},
   "outputs": [],
   "source": [
    "s_list_1 = pd.Series([1,2,3,4]).values\n",
    "s_list_2 = pd.Series('hello').values\n",
    "s_nm_1 = pd.Series(np.arange(1,10)).values\n",
    "print(s_list_1, s_list_2, s_nm_1)\n",
    "print(type(s_list_1), type(s_list_2), type(s_nm_1))"
   ]
  },
  {
   "cell_type": "markdown",
   "metadata": {},
   "source": [
    "Получение размера и формы серии"
   ]
  },
  {
   "cell_type": "code",
   "execution_count": null,
   "metadata": {},
   "outputs": [],
   "source": [
    "s_list_1 = pd.Series([1,2,3,4])\n",
    "print(len(s_list_1))\n",
    "print(s_list_1.shape)"
   ]
  },
  {
   "cell_type": "markdown",
   "metadata": {},
   "source": [
    "### Индексы"
   ]
  },
  {
   "cell_type": "markdown",
   "metadata": {},
   "source": [
    "Создание простого объекта Series с автоматическим индексом"
   ]
  },
  {
   "cell_type": "code",
   "execution_count": null,
   "metadata": {},
   "outputs": [],
   "source": [
    "s_auto_indexs = pd.Series([1,2,3,4])\n",
    "print(s_auto_indexs)\n",
    "print(s_auto_indexs.index)\n",
    "print(type(s_auto_indexs))\n",
    "print(type(s_auto_indexs.index))"
   ]
  },
  {
   "cell_type": "markdown",
   "metadata": {},
   "source": [
    "Создание простого объекта Series c пользовательским индексом"
   ]
  },
  {
   "cell_type": "code",
   "execution_count": null,
   "metadata": {},
   "outputs": [],
   "source": [
    "s_char_index = pd.Series([1,2,3,4], index=['a', 'b', 'c', 'd'])\n",
    "print(type(s_char_index))\n",
    "print(s_char_index)\n",
    "print(s_char_index.index)"
   ]
  },
  {
   "cell_type": "markdown",
   "metadata": {},
   "source": [
    "Создание простого объекта Series c индексом в виде даты"
   ]
  },
  {
   "cell_type": "code",
   "execution_count": null,
   "metadata": {},
   "outputs": [],
   "source": [
    "date_index = pd.date_range('2024-01-01','2024-01-4')\n",
    "s_date_index = pd.Series([1,2,3,4], index=date_index)\n",
    "print(date_index)\n",
    "print(s_date_index)"
   ]
  },
  {
   "cell_type": "markdown",
   "metadata": {},
   "source": [
    "Индексы можно создать и присвоить позднее"
   ]
  },
  {
   "cell_type": "code",
   "execution_count": null,
   "metadata": {},
   "outputs": [],
   "source": [
    "date_index = pd.date_range('2024-01-01','2024-01-4')\n",
    "s_date_index = pd.Series([1,2,3,4])\n",
    "s_date_index.index = date_index\n",
    "print(s_date_index)"
   ]
  },
  {
   "cell_type": "markdown",
   "metadata": {},
   "source": [
    "### Поиск элементов"
   ]
  },
  {
   "cell_type": "markdown",
   "metadata": {},
   "source": [
    "Поиск по метки индекса"
   ]
  },
  {
   "cell_type": "code",
   "execution_count": null,
   "metadata": {},
   "outputs": [],
   "source": [
    "\n",
    "s_auto_indexs = pd.Series([1,2,3,4])\n",
    "print(s_auto_indexs[1])      # Перый элемент\n",
    "print(s_auto_indexs[:])      # Все\n",
    "print(s_auto_indexs[2:])     # Начиная со 2-ого\n",
    "print(s_auto_indexs[1:3])    # С 1-ого по 3-й (3-й не включается)\n",
    "print(s_auto_indexs[:2])     # С начало до 2-ого (2-й не включается)\n",
    "print(s_auto_indexs[::2])    # Только четные\n",
    "print(s_auto_indexs[[1,3]])  # Явно перечисленные\n",
    "\n",
    "s_char_index = pd.Series([1,2,3,4], index=['a', 'b', 'c', 'd'])\n",
    "print(s_char_index['a'])\n",
    "print(s_char_index[['a','d']])\n",
    "print(s_char_index[[1,3]])\n",
    "\n",
    "s_date_index = pd.Series([1,2,3,4], index=pd.date_range('2024-01-01','2024-01-4'))\n",
    "print(s_date_index[1])\n",
    "print(s_date_index[['2024-01-01','2024-01-03']])\n",
    "\n",
    "#  Проблема\n",
    "#s_int_indexs = pd.Series([1,2,3,4], index=[10,11,12,13])\n",
    "#s_int_indexs[1]"
   ]
  },
  {
   "cell_type": "markdown",
   "metadata": {},
   "source": [
    "Явный поиск по позиции iloc"
   ]
  },
  {
   "cell_type": "code",
   "execution_count": null,
   "metadata": {},
   "outputs": [],
   "source": [
    "s_int_indexs = pd.Series([1,2,3,4], index=[10,11,12,13])\n",
    "s_int_indexs.iloc[1]\n",
    "s_int_indexs.iloc[1:3]"
   ]
  },
  {
   "cell_type": "markdown",
   "metadata": {},
   "source": [
    "Явный поиск по метке loc"
   ]
  },
  {
   "cell_type": "code",
   "execution_count": null,
   "metadata": {},
   "outputs": [],
   "source": [
    "s_int_indexs = pd.Series([1,2,3,4], index=[10,11,12,13])\n",
    "s_int_indexs.loc[10]"
   ]
  },
  {
   "cell_type": "markdown",
   "metadata": {},
   "source": [
    "Методы Series"
   ]
  },
  {
   "cell_type": "code",
   "execution_count": null,
   "metadata": {},
   "outputs": [],
   "source": [
    "s = pd.Series(np.arange(1,10), index=list('abcdefghi'))\n",
    "s.head(2) # Первые 2 элемента\n",
    "s.tail(2) # Последние 2 элемента\n",
    "s.take([1,2,3]) #  Элементы по целочисленной позиции"
   ]
  },
  {
   "cell_type": "markdown",
   "metadata": {},
   "source": [
    "### Арифметические операция над сериями. Выравнивание по меткам индекса"
   ]
  },
  {
   "cell_type": "markdown",
   "metadata": {},
   "source": [
    "Арифметические операция на сериями"
   ]
  },
  {
   "cell_type": "code",
   "execution_count": null,
   "metadata": {},
   "outputs": [],
   "source": [
    "\n",
    "\n",
    "s1 = pd.Series([1,2,3,4,5], index=pd.date_range('2024-01-01', '2024-01-05'))\n",
    "s2 = pd.Series([10,20,30,40,50], index=pd.date_range('2024-01-01', '2024-01-05'))\n",
    "\n",
    "s2-s1\n",
    "s1+s2\n",
    "s1*s2\n",
    "s2/s1\n",
    "s2//s1\n",
    "s2**s1"
   ]
  },
  {
   "cell_type": "markdown",
   "metadata": {},
   "source": [
    "Выравнивания по меткам индекса"
   ]
  },
  {
   "cell_type": "code",
   "execution_count": null,
   "metadata": {},
   "outputs": [],
   "source": []
  },
  {
   "cell_type": "markdown",
   "metadata": {},
   "source": [
    "### Статистические функции"
   ]
  },
  {
   "cell_type": "code",
   "execution_count": null,
   "metadata": {},
   "outputs": [],
   "source": [
    "s1.max()\n",
    "s1.min()\n",
    "s1.mean()\n",
    "s2.median()\n",
    "s2.describe()"
   ]
  },
  {
   "cell_type": "markdown",
   "metadata": {},
   "source": [
    "## DataFrame\n",
    "\n",
    "Представляет собой один или нескольок объктов Series, упорядоченных по меткам индекса\n",
    "\n",
    "В некоторм роде DataFrame похож на таблицу реляционной базы данных. "
   ]
  },
  {
   "cell_type": "code",
   "execution_count": 220,
   "metadata": {},
   "outputs": [
    {
     "name": "stdout",
     "output_type": "stream",
     "text": [
      "<class 'pandas.core.frame.DataFrame'>\n"
     ]
    },
    {
     "data": {
      "text/html": [
       "<div>\n",
       "<style scoped>\n",
       "    .dataframe tbody tr th:only-of-type {\n",
       "        vertical-align: middle;\n",
       "    }\n",
       "\n",
       "    .dataframe tbody tr th {\n",
       "        vertical-align: top;\n",
       "    }\n",
       "\n",
       "    .dataframe thead th {\n",
       "        text-align: right;\n",
       "    }\n",
       "</style>\n",
       "<table border=\"1\" class=\"dataframe\">\n",
       "  <thead>\n",
       "    <tr style=\"text-align: right;\">\n",
       "      <th></th>\n",
       "      <th>Belgorod</th>\n",
       "      <th>Kursk</th>\n",
       "    </tr>\n",
       "  </thead>\n",
       "  <tbody>\n",
       "    <tr>\n",
       "      <th>2023-04-01</th>\n",
       "      <td>7</td>\n",
       "      <td>10</td>\n",
       "    </tr>\n",
       "    <tr>\n",
       "      <th>2023-04-02</th>\n",
       "      <td>12</td>\n",
       "      <td>12</td>\n",
       "    </tr>\n",
       "    <tr>\n",
       "      <th>2023-04-03</th>\n",
       "      <td>9</td>\n",
       "      <td>12</td>\n",
       "    </tr>\n",
       "    <tr>\n",
       "      <th>2023-04-04</th>\n",
       "      <td>13</td>\n",
       "      <td>13</td>\n",
       "    </tr>\n",
       "    <tr>\n",
       "      <th>2023-04-05</th>\n",
       "      <td>15</td>\n",
       "      <td>14</td>\n",
       "    </tr>\n",
       "    <tr>\n",
       "      <th>2023-04-06</th>\n",
       "      <td>16</td>\n",
       "      <td>15</td>\n",
       "    </tr>\n",
       "    <tr>\n",
       "      <th>2023-04-07</th>\n",
       "      <td>15</td>\n",
       "      <td>14</td>\n",
       "    </tr>\n",
       "    <tr>\n",
       "      <th>2023-04-08</th>\n",
       "      <td>15</td>\n",
       "      <td>13</td>\n",
       "    </tr>\n",
       "    <tr>\n",
       "      <th>2023-04-09</th>\n",
       "      <td>14</td>\n",
       "      <td>15</td>\n",
       "    </tr>\n",
       "    <tr>\n",
       "      <th>2023-04-10</th>\n",
       "      <td>14</td>\n",
       "      <td>15</td>\n",
       "    </tr>\n",
       "  </tbody>\n",
       "</table>\n",
       "</div>"
      ],
      "text/plain": [
       "            Belgorod  Kursk\n",
       "2023-04-01         7     10\n",
       "2023-04-02        12     12\n",
       "2023-04-03         9     12\n",
       "2023-04-04        13     13\n",
       "2023-04-05        15     14\n",
       "2023-04-06        16     15\n",
       "2023-04-07        15     14\n",
       "2023-04-08        15     13\n",
       "2023-04-09        14     15\n",
       "2023-04-10        14     15"
      ]
     },
     "execution_count": 220,
     "metadata": {},
     "output_type": "execute_result"
    }
   ],
   "source": [
    "belgorod = pd.Series([7, 12,9,13,15,16,15,15,14,14], index=pd.date_range('2023-04-01', '2023-04-10'))\n",
    "kursk = pd.Series([10,12,12,13,14,15,14,13,15,15], index=pd.date_range('2023-04-01', '2023-04-10'))\n",
    "temp_df= pd.DataFrame({\n",
    "    \"Belgorod\": belgorod,\n",
    "    \"Kursk\": kursk,\n",
    "})\n",
    "print(type(temp_df))\n",
    "temp_df\n",
    "\n"
   ]
  },
  {
   "cell_type": "markdown",
   "metadata": {},
   "source": [
    "### Получение столбца фрейма\n",
    "\n",
    "Столбец таблицы представляет собой Series и может быть получен из DataFrame с помощью операции извлечения по индексу."
   ]
  },
  {
   "cell_type": "code",
   "execution_count": 221,
   "metadata": {},
   "outputs": [
    {
     "name": "stdout",
     "output_type": "stream",
     "text": [
      "<class 'pandas.core.frame.DataFrame'> <class 'pandas.core.series.Series'>\n"
     ]
    },
    {
     "data": {
      "text/plain": [
       "2023-04-01    10\n",
       "2023-04-02    12\n",
       "2023-04-03    12\n",
       "2023-04-04    13\n",
       "2023-04-05    14\n",
       "2023-04-06    15\n",
       "2023-04-07    14\n",
       "2023-04-08    13\n",
       "2023-04-09    15\n",
       "2023-04-10    15\n",
       "Freq: D, Name: Kursk, dtype: int64"
      ]
     },
     "execution_count": 221,
     "metadata": {},
     "output_type": "execute_result"
    }
   ],
   "source": [
    "print(type(temp_df), type(temp_df[\"Kursk\"]))\n",
    "s = temp_df[\"Kursk\"]\n",
    "# s = temp_df.Kursk\n",
    "s\n",
    "\n",
    "# s['2023-04-01']\n",
    "# temp_df[\"Kursk\"]['2023-04-01']\n",
    "#temp_df[[\"Kursk\",\"Belogorod\"]]"
   ]
  },
  {
   "cell_type": "markdown",
   "metadata": {},
   "source": [
    "### Арифметические операция над фреймами"
   ]
  },
  {
   "cell_type": "code",
   "execution_count": 222,
   "metadata": {},
   "outputs": [
    {
     "data": {
      "text/plain": [
       "2023-04-01    3\n",
       "2023-04-02    0\n",
       "2023-04-03    3\n",
       "2023-04-04    0\n",
       "2023-04-05   -1\n",
       "2023-04-06   -1\n",
       "2023-04-07   -1\n",
       "2023-04-08   -2\n",
       "2023-04-09    1\n",
       "2023-04-10    1\n",
       "Freq: D, dtype: int64"
      ]
     },
     "execution_count": 222,
     "metadata": {},
     "output_type": "execute_result"
    }
   ],
   "source": [
    "temp_df[\"Kursk\"] - temp_df[\"Belgorod\"]"
   ]
  },
  {
   "cell_type": "markdown",
   "metadata": {},
   "source": [
    "### Добавление серии"
   ]
  },
  {
   "cell_type": "code",
   "execution_count": 223,
   "metadata": {},
   "outputs": [
    {
     "data": {
      "text/html": [
       "<div>\n",
       "<style scoped>\n",
       "    .dataframe tbody tr th:only-of-type {\n",
       "        vertical-align: middle;\n",
       "    }\n",
       "\n",
       "    .dataframe tbody tr th {\n",
       "        vertical-align: top;\n",
       "    }\n",
       "\n",
       "    .dataframe thead th {\n",
       "        text-align: right;\n",
       "    }\n",
       "</style>\n",
       "<table border=\"1\" class=\"dataframe\">\n",
       "  <thead>\n",
       "    <tr style=\"text-align: right;\">\n",
       "      <th></th>\n",
       "      <th>Belgorod</th>\n",
       "      <th>Kursk</th>\n",
       "      <th>Orel</th>\n",
       "    </tr>\n",
       "  </thead>\n",
       "  <tbody>\n",
       "    <tr>\n",
       "      <th>2023-04-01</th>\n",
       "      <td>7</td>\n",
       "      <td>10</td>\n",
       "      <td>10</td>\n",
       "    </tr>\n",
       "    <tr>\n",
       "      <th>2023-04-02</th>\n",
       "      <td>12</td>\n",
       "      <td>12</td>\n",
       "      <td>12</td>\n",
       "    </tr>\n",
       "    <tr>\n",
       "      <th>2023-04-03</th>\n",
       "      <td>9</td>\n",
       "      <td>12</td>\n",
       "      <td>12</td>\n",
       "    </tr>\n",
       "    <tr>\n",
       "      <th>2023-04-04</th>\n",
       "      <td>13</td>\n",
       "      <td>13</td>\n",
       "      <td>13</td>\n",
       "    </tr>\n",
       "    <tr>\n",
       "      <th>2023-04-05</th>\n",
       "      <td>15</td>\n",
       "      <td>14</td>\n",
       "      <td>14</td>\n",
       "    </tr>\n",
       "    <tr>\n",
       "      <th>2023-04-06</th>\n",
       "      <td>16</td>\n",
       "      <td>15</td>\n",
       "      <td>14</td>\n",
       "    </tr>\n",
       "    <tr>\n",
       "      <th>2023-04-07</th>\n",
       "      <td>15</td>\n",
       "      <td>14</td>\n",
       "      <td>11</td>\n",
       "    </tr>\n",
       "    <tr>\n",
       "      <th>2023-04-08</th>\n",
       "      <td>15</td>\n",
       "      <td>13</td>\n",
       "      <td>12</td>\n",
       "    </tr>\n",
       "    <tr>\n",
       "      <th>2023-04-09</th>\n",
       "      <td>14</td>\n",
       "      <td>15</td>\n",
       "      <td>14</td>\n",
       "    </tr>\n",
       "    <tr>\n",
       "      <th>2023-04-10</th>\n",
       "      <td>14</td>\n",
       "      <td>15</td>\n",
       "      <td>17</td>\n",
       "    </tr>\n",
       "  </tbody>\n",
       "</table>\n",
       "</div>"
      ],
      "text/plain": [
       "            Belgorod  Kursk  Orel\n",
       "2023-04-01         7     10    10\n",
       "2023-04-02        12     12    12\n",
       "2023-04-03         9     12    12\n",
       "2023-04-04        13     13    13\n",
       "2023-04-05        15     14    14\n",
       "2023-04-06        16     15    14\n",
       "2023-04-07        15     14    11\n",
       "2023-04-08        15     13    12\n",
       "2023-04-09        14     15    14\n",
       "2023-04-10        14     15    17"
      ]
     },
     "execution_count": 223,
     "metadata": {},
     "output_type": "execute_result"
    }
   ],
   "source": [
    "orel = pd.Series([10,12,12,13,14,14,11,12,14,17], index=pd.date_range('2023-04-01', '2023-04-10'))\n",
    "temp_df[\"Orel\"] = orel\n",
    "temp_df"
   ]
  },
  {
   "cell_type": "markdown",
   "metadata": {},
   "source": [
    "### Получение строки фрейма"
   ]
  },
  {
   "cell_type": "markdown",
   "metadata": {},
   "source": [
    "метод iloc"
   ]
  },
  {
   "cell_type": "code",
   "execution_count": 224,
   "metadata": {},
   "outputs": [
    {
     "name": "stdout",
     "output_type": "stream",
     "text": [
      "Belgorod    12\n",
      "Kursk       12\n",
      "Orel        12\n",
      "Name: 2023-04-02 00:00:00, dtype: int64\n",
      "--\n",
      "<class 'pandas.core.series.Series'>\n",
      "--\n",
      "Index(['Belgorod', 'Kursk', 'Orel'], dtype='object')\n"
     ]
    }
   ],
   "source": [
    "\n",
    "print(temp_df.iloc[1])\n",
    "print(\"--\")\n",
    "print(type(temp_df.iloc[1]))\n",
    "print(\"--\")\n",
    "print(temp_df.iloc[1].index)"
   ]
  },
  {
   "cell_type": "markdown",
   "metadata": {},
   "source": [
    "метод loc"
   ]
  },
  {
   "cell_type": "code",
   "execution_count": 225,
   "metadata": {},
   "outputs": [
    {
     "name": "stdout",
     "output_type": "stream",
     "text": [
      "Belgorod     7\n",
      "Kursk       10\n",
      "Orel        10\n",
      "Name: 2023-04-01 00:00:00, dtype: int64\n",
      "--\n",
      "<class 'pandas.core.series.Series'>\n",
      "--\n",
      "Index(['Belgorod', 'Kursk', 'Orel'], dtype='object')\n"
     ]
    }
   ],
   "source": [
    "print(temp_df.loc['2023-04-1'])\n",
    "print(\"--\")\n",
    "print(type(temp_df.loc['2023-04-1']))\n",
    "print(\"--\")\n",
    "print(temp_df.loc['2023-04-1'].index)"
   ]
  },
  {
   "cell_type": "markdown",
   "metadata": {},
   "source": [
    "Логический отбор или отбор на основе булевых значений (Boolean Selection)\n",
    "Отбор строк на основе значений конкретных столбцов (аналогичен where в SQL)"
   ]
  },
  {
   "cell_type": "code",
   "execution_count": 226,
   "metadata": {},
   "outputs": [
    {
     "data": {
      "text/plain": [
       "2023-04-01    False\n",
       "2023-04-02    False\n",
       "2023-04-03    False\n",
       "2023-04-04     True\n",
       "2023-04-05     True\n",
       "2023-04-06     True\n",
       "2023-04-07     True\n",
       "2023-04-08     True\n",
       "2023-04-09     True\n",
       "2023-04-10     True\n",
       "Freq: D, Name: Belgorod, dtype: bool"
      ]
     },
     "execution_count": 226,
     "metadata": {},
     "output_type": "execute_result"
    }
   ],
   "source": [
    "belgorod_gt_12_log = temp_df[\"Belgorod\"] > 12\n",
    "belgorod_gt_12_log"
   ]
  },
  {
   "cell_type": "code",
   "execution_count": 227,
   "metadata": {},
   "outputs": [
    {
     "data": {
      "text/html": [
       "<div>\n",
       "<style scoped>\n",
       "    .dataframe tbody tr th:only-of-type {\n",
       "        vertical-align: middle;\n",
       "    }\n",
       "\n",
       "    .dataframe tbody tr th {\n",
       "        vertical-align: top;\n",
       "    }\n",
       "\n",
       "    .dataframe thead th {\n",
       "        text-align: right;\n",
       "    }\n",
       "</style>\n",
       "<table border=\"1\" class=\"dataframe\">\n",
       "  <thead>\n",
       "    <tr style=\"text-align: right;\">\n",
       "      <th></th>\n",
       "      <th>Belgorod</th>\n",
       "      <th>Kursk</th>\n",
       "      <th>Orel</th>\n",
       "    </tr>\n",
       "  </thead>\n",
       "  <tbody>\n",
       "    <tr>\n",
       "      <th>2023-04-04</th>\n",
       "      <td>13</td>\n",
       "      <td>13</td>\n",
       "      <td>13</td>\n",
       "    </tr>\n",
       "    <tr>\n",
       "      <th>2023-04-05</th>\n",
       "      <td>15</td>\n",
       "      <td>14</td>\n",
       "      <td>14</td>\n",
       "    </tr>\n",
       "    <tr>\n",
       "      <th>2023-04-06</th>\n",
       "      <td>16</td>\n",
       "      <td>15</td>\n",
       "      <td>14</td>\n",
       "    </tr>\n",
       "    <tr>\n",
       "      <th>2023-04-07</th>\n",
       "      <td>15</td>\n",
       "      <td>14</td>\n",
       "      <td>11</td>\n",
       "    </tr>\n",
       "    <tr>\n",
       "      <th>2023-04-08</th>\n",
       "      <td>15</td>\n",
       "      <td>13</td>\n",
       "      <td>12</td>\n",
       "    </tr>\n",
       "    <tr>\n",
       "      <th>2023-04-09</th>\n",
       "      <td>14</td>\n",
       "      <td>15</td>\n",
       "      <td>14</td>\n",
       "    </tr>\n",
       "    <tr>\n",
       "      <th>2023-04-10</th>\n",
       "      <td>14</td>\n",
       "      <td>15</td>\n",
       "      <td>17</td>\n",
       "    </tr>\n",
       "  </tbody>\n",
       "</table>\n",
       "</div>"
      ],
      "text/plain": [
       "            Belgorod  Kursk  Orel\n",
       "2023-04-04        13     13    13\n",
       "2023-04-05        15     14    14\n",
       "2023-04-06        16     15    14\n",
       "2023-04-07        15     14    11\n",
       "2023-04-08        15     13    12\n",
       "2023-04-09        14     15    14\n",
       "2023-04-10        14     15    17"
      ]
     },
     "execution_count": 227,
     "metadata": {},
     "output_type": "execute_result"
    }
   ],
   "source": [
    "temp_df[belgorod_gt_12_log]"
   ]
  },
  {
   "cell_type": "markdown",
   "metadata": {},
   "source": [
    " ## Загрузка данных"
   ]
  },
  {
   "cell_type": "markdown",
   "metadata": {},
   "source": [
    "### Загрузка CSV файлов"
   ]
  },
  {
   "cell_type": "code",
   "execution_count": null,
   "metadata": {},
   "outputs": [],
   "source": [
    "beauty_df = pd.read_csv(\"/code/data/beauty.csv\", delimiter=';')\n",
    "beauty_df"
   ]
  },
  {
   "cell_type": "code",
   "execution_count": null,
   "metadata": {},
   "outputs": [],
   "source": [
    "goog_df = pd.read_csv(\"/code/data/goog.csv\", parse_dates=[\"Date\"], index_col='Date')\n",
    "goog_df"
   ]
  },
  {
   "cell_type": "markdown",
   "metadata": {},
   "source": [
    "### Загрузка данных в формате Excel"
   ]
  },
  {
   "cell_type": "code",
   "execution_count": null,
   "metadata": {},
   "outputs": [],
   "source": [
    "titanic_df = pd.read_excel(\"/code/data/titanic.xls\") # Требуется библиотека xlrd\n",
    "titanic_df"
   ]
  },
  {
   "cell_type": "markdown",
   "metadata": {},
   "source": [
    "### Загрузка данных в формате json"
   ]
  },
  {
   "cell_type": "code",
   "execution_count": null,
   "metadata": {},
   "outputs": [],
   "source": [
    "\n",
    "titanic_json_df = pd.read_json(\"/code/data/titanic.json\" ) \n",
    "titanic_json_df"
   ]
  },
  {
   "cell_type": "markdown",
   "metadata": {},
   "source": [
    "### Сохранение данных"
   ]
  },
  {
   "cell_type": "code",
   "execution_count": null,
   "metadata": {},
   "outputs": [],
   "source": [
    "temp_df.to_csv('/code/data/temp.csv')"
   ]
  }
 ],
 "metadata": {
  "kernelspec": {
   "display_name": "Python 3",
   "language": "python",
   "name": "python3"
  },
  "language_info": {
   "codemirror_mode": {
    "name": "ipython",
    "version": 3
   },
   "file_extension": ".py",
   "mimetype": "text/x-python",
   "name": "python",
   "nbconvert_exporter": "python",
   "pygments_lexer": "ipython3",
   "version": "3.12.2"
  }
 },
 "nbformat": 4,
 "nbformat_minor": 2
}
